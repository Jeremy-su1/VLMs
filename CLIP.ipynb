{
  "nbformat": 4,
  "nbformat_minor": 0,
  "metadata": {
    "colab": {
      "provenance": [],
      "authorship_tag": "ABX9TyM5jEliJ/I3cr0d+293t9de",
      "include_colab_link": true
    },
    "kernelspec": {
      "name": "python3",
      "display_name": "Python 3"
    },
    "language_info": {
      "name": "python"
    }
  },
  "cells": [
    {
      "cell_type": "markdown",
      "metadata": {
        "id": "view-in-github",
        "colab_type": "text"
      },
      "source": [
        "<a href=\"https://colab.research.google.com/github/Jeremy-su1/VLMs/blob/main/CLIP.ipynb\" target=\"_parent\"><img src=\"https://colab.research.google.com/assets/colab-badge.svg\" alt=\"Open In Colab\"/></a>"
      ]
    },
    {
      "cell_type": "markdown",
      "source": [
        "# Multi-Modal\n",
        "# Vision-Language Models\n",
        "# CLIP"
      ],
      "metadata": {
        "id": "v8GMYo5Hzh2I"
      }
    },
    {
      "cell_type": "markdown",
      "source": [
        "## 1. Library 설치"
      ],
      "metadata": {
        "id": "_fKxLv0szyIE"
      }
    },
    {
      "cell_type": "code",
      "execution_count": null,
      "metadata": {
        "id": "yQe7aiglzeUV"
      },
      "outputs": [],
      "source": [
        "#@title #1-1.Python 버전확인\n",
        "# sys 모듈을 임포트\n",
        "# sys 모듈은 파이썬 인터프리터와 관련된 함수와 변수들을 제공\n",
        "import sys\n",
        "\n",
        "# 현재 파이썬 인터프리터의 버전 정보를 출력\n",
        "sys.version\n"
      ]
    },
    {
      "cell_type": "code",
      "source": [
        "# Google Drive approach\n",
        "# Durations : 20s\n",
        "from google.colab import drive\n",
        "drive.mount('/content/drive')"
      ],
      "metadata": {
        "id": "BkY2Vb9e0JN7"
      },
      "execution_count": null,
      "outputs": []
    },
    {
      "cell_type": "code",
      "source": [],
      "metadata": {
        "id": "GDYgOdXJz_Xd"
      },
      "execution_count": null,
      "outputs": []
    }
  ]
}